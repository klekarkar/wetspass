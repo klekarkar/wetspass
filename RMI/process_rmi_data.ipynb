{
 "cells": [
  {
   "cell_type": "code",
   "execution_count": 1,
   "metadata": {},
   "outputs": [],
   "source": [
    "import os\n",
    "import numpy as np\n",
    "import matplotlib.pyplot as plt\n",
    "import pandas as pd\n",
    "from pyproj import Transformer\n",
    "from bilinear_interpolation import bilinear_interpolation\n",
    "import xarray as xr\n",
    "import rioxarray as rio "
   ]
  },
  {
   "cell_type": "markdown",
   "metadata": {},
   "source": [
    "### Read dataframes \n",
    "> Climate data  \n",
    "> Grid centres"
   ]
  },
  {
   "cell_type": "code",
   "execution_count": 2,
   "metadata": {},
   "outputs": [],
   "source": [
    "src_path = r\"W:/VUB/main_research/data/RMI\"\n",
    "os.chdir(src_path)\n",
    "\n",
    "# Read gridded meteo data with encoding ISO-8859-1 since utf-8 doesnt work (try other encodings e.g. latin1, cp1252)\n",
    "try:\n",
    "    clim_data = pd.read_csv(\"pdg1487.csv\", sep=\";\", header=0, encoding=\"ISO-8859-1\")\n",
    "except UnicodeDecodeError as e:\n",
    "    print(\"ISO-8859-1 didn't work: \", e)\n",
    "\n",
    "#read 5km by 5km grid\n",
    "grid = pd.read_csv(src_path+\"/gridded_data_docu/grid 5x5km_def.csv\", sep=\" \", skiprows=1)"
   ]
  },
  {
   "cell_type": "markdown",
   "metadata": {},
   "source": [
    "#### Transform coordinate system"
   ]
  },
  {
   "cell_type": "code",
   "execution_count": 3,
   "metadata": {},
   "outputs": [],
   "source": [
    "# Define the transformer from WGS84 (EPSG:4326) to Belgian Lambert 1972 (EPSG:31370)\n",
    "transformer = Transformer.from_crs(\"EPSG:4326\", \"EPSG:31370\")\n",
    "\n",
    "# Function to transform coordinates\n",
    "def transform_coords(lat, lon):\n",
    "    return transformer.transform(lat, lon)\n",
    "\n",
    "# Apply the transformation to each row in the DataFrame\n",
    "grid['lambert72_x'], grid['lambert72_y'] = zip(*grid.apply(lambda row: transform_coords(row['LAT'], row['LON']), axis=1))"
   ]
  },
  {
   "cell_type": "markdown",
   "metadata": {},
   "source": [
    "##### Merge climate data with coordinate grid"
   ]
  },
  {
   "cell_type": "code",
   "execution_count": 29,
   "metadata": {},
   "outputs": [],
   "source": [
    "#merge the two dataframes on pixel_id\n",
    "climate_data_df = clim_data.merge(grid, on='PIXEL_ID')\n",
    "\n",
    "#set date and pixel_id as index\n",
    "climate_data_df.set_index(['DATE', 'PIXEL_ID'], inplace=True)\n",
    "\n",
    "#sort the index\n",
    "climate_data_df.sort_index(inplace=True)\n",
    "\n",
    "#rename the columns to lower case\n",
    "climate_data_df.columns = climate_data_df.columns.str.lower()\n",
    "\n",
    "#calculate the mean temperature\n",
    "climate_data_df['mean_daily_temperature']=0.5*(climate_data_df['temperature min (°c)'] + climate_data_df['temperature max (°c)'])\n",
    "\n",
    "#extract climate variable names from the dataframe columns\n",
    "climate_variables=['max_daily_temperature', 'min_daily_temperature', 'precipitation', 'Potential_evapotranspiration', 'global_radiation', 'wind_speed','mean_daily_temperature']"
   ]
  },
  {
   "cell_type": "code",
   "execution_count": 30,
   "metadata": {},
   "outputs": [],
   "source": [
    "# Replace column names from index 2 to 8 (clim variables)\n",
    "subset_columns = list(climate_data_df.columns[2:8])\n",
    "new_names_dict = dict(zip(subset_columns, climate_variables))\n",
    "\n",
    "# Rename the subset of columns\n",
    "climate_data_df.rename(columns=new_names_dict, inplace=True)"
   ]
  },
  {
   "cell_type": "code",
   "execution_count": 6,
   "metadata": {},
   "outputs": [
    {
     "data": {
      "text/html": [
       "<div>\n",
       "<style scoped>\n",
       "    .dataframe tbody tr th:only-of-type {\n",
       "        vertical-align: middle;\n",
       "    }\n",
       "\n",
       "    .dataframe tbody tr th {\n",
       "        vertical-align: top;\n",
       "    }\n",
       "\n",
       "    .dataframe thead th {\n",
       "        text-align: right;\n",
       "    }\n",
       "</style>\n",
       "<table border=\"1\" class=\"dataframe\">\n",
       "  <thead>\n",
       "    <tr style=\"text-align: right;\">\n",
       "      <th></th>\n",
       "      <th></th>\n",
       "      <th>pixel_lon_center</th>\n",
       "      <th>pixel_lat_center</th>\n",
       "      <th>max_daily_temperature</th>\n",
       "      <th>min_daily_temperature</th>\n",
       "      <th>precipitation</th>\n",
       "      <th>Potential_evapotranspiration</th>\n",
       "      <th>global_radiation_kwh/m2/day</th>\n",
       "      <th>wind_speed_m/s</th>\n",
       "      <th>lambert_x</th>\n",
       "      <th>lambert_y</th>\n",
       "      <th>lat</th>\n",
       "      <th>lon</th>\n",
       "      <th>lambert72_x</th>\n",
       "      <th>lambert72_y</th>\n",
       "      <th>mean_daily_temperature</th>\n",
       "    </tr>\n",
       "    <tr>\n",
       "      <th>DATE</th>\n",
       "      <th>PIXEL_ID</th>\n",
       "      <th></th>\n",
       "      <th></th>\n",
       "      <th></th>\n",
       "      <th></th>\n",
       "      <th></th>\n",
       "      <th></th>\n",
       "      <th></th>\n",
       "      <th></th>\n",
       "      <th></th>\n",
       "      <th></th>\n",
       "      <th></th>\n",
       "      <th></th>\n",
       "      <th></th>\n",
       "      <th></th>\n",
       "      <th></th>\n",
       "    </tr>\n",
       "  </thead>\n",
       "  <tbody>\n",
       "    <tr>\n",
       "      <th rowspan=\"11\" valign=\"top\">1994-01-01</th>\n",
       "      <th>1</th>\n",
       "      <td>5.419101</td>\n",
       "      <td>49.510015</td>\n",
       "      <td>4.1</td>\n",
       "      <td>2.3</td>\n",
       "      <td>10.4</td>\n",
       "      <td>0.4</td>\n",
       "      <td>0.37</td>\n",
       "      <td>4.9</td>\n",
       "      <td>62500</td>\n",
       "      <td>6218014.18</td>\n",
       "      <td>49.510</td>\n",
       "      <td>5.419</td>\n",
       "      <td>226066.415779</td>\n",
       "      <td>22556.879670</td>\n",
       "      <td>3.20</td>\n",
       "    </tr>\n",
       "    <tr>\n",
       "      <th>2</th>\n",
       "      <td>5.488333</td>\n",
       "      <td>49.509469</td>\n",
       "      <td>3.3</td>\n",
       "      <td>2.4</td>\n",
       "      <td>10.0</td>\n",
       "      <td>0.4</td>\n",
       "      <td>0.34</td>\n",
       "      <td>4.9</td>\n",
       "      <td>67500</td>\n",
       "      <td>6218014.18</td>\n",
       "      <td>49.509</td>\n",
       "      <td>5.488</td>\n",
       "      <td>231065.107850</td>\n",
       "      <td>22518.715067</td>\n",
       "      <td>2.85</td>\n",
       "    </tr>\n",
       "    <tr>\n",
       "      <th>3</th>\n",
       "      <td>5.557563</td>\n",
       "      <td>49.508882</td>\n",
       "      <td>2.5</td>\n",
       "      <td>2.4</td>\n",
       "      <td>9.6</td>\n",
       "      <td>0.4</td>\n",
       "      <td>0.34</td>\n",
       "      <td>4.9</td>\n",
       "      <td>72500</td>\n",
       "      <td>6218014.18</td>\n",
       "      <td>49.509</td>\n",
       "      <td>5.558</td>\n",
       "      <td>236134.576126</td>\n",
       "      <td>22597.572678</td>\n",
       "      <td>2.45</td>\n",
       "    </tr>\n",
       "    <tr>\n",
       "      <th>4</th>\n",
       "      <td>5.626792</td>\n",
       "      <td>49.508253</td>\n",
       "      <td>2.7</td>\n",
       "      <td>2.2</td>\n",
       "      <td>9.7</td>\n",
       "      <td>0.4</td>\n",
       "      <td>0.40</td>\n",
       "      <td>4.9</td>\n",
       "      <td>77500</td>\n",
       "      <td>6218014.18</td>\n",
       "      <td>49.508</td>\n",
       "      <td>5.627</td>\n",
       "      <td>241133.434307</td>\n",
       "      <td>22568.767442</td>\n",
       "      <td>2.45</td>\n",
       "    </tr>\n",
       "    <tr>\n",
       "      <th>5</th>\n",
       "      <td>5.419910</td>\n",
       "      <td>49.554969</td>\n",
       "      <td>3.3</td>\n",
       "      <td>2.2</td>\n",
       "      <td>10.3</td>\n",
       "      <td>0.4</td>\n",
       "      <td>0.38</td>\n",
       "      <td>4.9</td>\n",
       "      <td>62500</td>\n",
       "      <td>6223014.18</td>\n",
       "      <td>49.555</td>\n",
       "      <td>5.420</td>\n",
       "      <td>226067.928965</td>\n",
       "      <td>27562.717350</td>\n",
       "      <td>2.75</td>\n",
       "    </tr>\n",
       "    <tr>\n",
       "      <th>...</th>\n",
       "      <td>...</td>\n",
       "      <td>...</td>\n",
       "      <td>...</td>\n",
       "      <td>...</td>\n",
       "      <td>...</td>\n",
       "      <td>...</td>\n",
       "      <td>...</td>\n",
       "      <td>...</td>\n",
       "      <td>...</td>\n",
       "      <td>...</td>\n",
       "      <td>...</td>\n",
       "      <td>...</td>\n",
       "      <td>...</td>\n",
       "      <td>...</td>\n",
       "      <td>...</td>\n",
       "    </tr>\n",
       "    <tr>\n",
       "      <th>1356</th>\n",
       "      <td>4.517511</td>\n",
       "      <td>51.491625</td>\n",
       "      <td>4.7</td>\n",
       "      <td>0.8</td>\n",
       "      <td>9.5</td>\n",
       "      <td>0.4</td>\n",
       "      <td>0.59</td>\n",
       "      <td>4.5</td>\n",
       "      <td>-2500</td>\n",
       "      <td>6438014.18</td>\n",
       "      <td>51.492</td>\n",
       "      <td>4.518</td>\n",
       "      <td>160365.917778</td>\n",
       "      <td>242501.680727</td>\n",
       "      <td>2.75</td>\n",
       "    </tr>\n",
       "    <tr>\n",
       "      <th>1357</th>\n",
       "      <td>4.734134</td>\n",
       "      <td>51.491493</td>\n",
       "      <td>4.9</td>\n",
       "      <td>1.0</td>\n",
       "      <td>9.8</td>\n",
       "      <td>0.4</td>\n",
       "      <td>0.61</td>\n",
       "      <td>4.4</td>\n",
       "      <td>12500</td>\n",
       "      <td>6438014.18</td>\n",
       "      <td>51.491</td>\n",
       "      <td>4.734</td>\n",
       "      <td>175369.506981</td>\n",
       "      <td>242442.534102</td>\n",
       "      <td>2.95</td>\n",
       "    </tr>\n",
       "    <tr>\n",
       "      <th>1358</th>\n",
       "      <td>4.806341</td>\n",
       "      <td>51.491362</td>\n",
       "      <td>4.8</td>\n",
       "      <td>1.0</td>\n",
       "      <td>9.5</td>\n",
       "      <td>0.4</td>\n",
       "      <td>0.60</td>\n",
       "      <td>4.4</td>\n",
       "      <td>17500</td>\n",
       "      <td>6438014.18</td>\n",
       "      <td>51.491</td>\n",
       "      <td>4.806</td>\n",
       "      <td>180370.587028</td>\n",
       "      <td>242469.606639</td>\n",
       "      <td>2.90</td>\n",
       "    </tr>\n",
       "    <tr>\n",
       "      <th>1359</th>\n",
       "      <td>5.022959</td>\n",
       "      <td>51.490706</td>\n",
       "      <td>4.7</td>\n",
       "      <td>1.2</td>\n",
       "      <td>8.1</td>\n",
       "      <td>0.3</td>\n",
       "      <td>0.65</td>\n",
       "      <td>4.4</td>\n",
       "      <td>32500</td>\n",
       "      <td>6438014.18</td>\n",
       "      <td>51.491</td>\n",
       "      <td>5.023</td>\n",
       "      <td>195443.094743</td>\n",
       "      <td>242580.532830</td>\n",
       "      <td>2.95</td>\n",
       "    </tr>\n",
       "    <tr>\n",
       "      <th>1360</th>\n",
       "      <td>5.095163</td>\n",
       "      <td>51.490399</td>\n",
       "      <td>4.7</td>\n",
       "      <td>1.3</td>\n",
       "      <td>7.9</td>\n",
       "      <td>0.3</td>\n",
       "      <td>0.63</td>\n",
       "      <td>4.3</td>\n",
       "      <td>37500</td>\n",
       "      <td>6438014.18</td>\n",
       "      <td>51.490</td>\n",
       "      <td>5.095</td>\n",
       "      <td>200445.121019</td>\n",
       "      <td>242515.807827</td>\n",
       "      <td>3.00</td>\n",
       "    </tr>\n",
       "  </tbody>\n",
       "</table>\n",
       "<p>1360 rows × 15 columns</p>\n",
       "</div>"
      ],
      "text/plain": [
       "                     pixel_lon_center  pixel_lat_center  \\\n",
       "DATE       PIXEL_ID                                       \n",
       "1994-01-01 1                 5.419101         49.510015   \n",
       "           2                 5.488333         49.509469   \n",
       "           3                 5.557563         49.508882   \n",
       "           4                 5.626792         49.508253   \n",
       "           5                 5.419910         49.554969   \n",
       "...                               ...               ...   \n",
       "           1356              4.517511         51.491625   \n",
       "           1357              4.734134         51.491493   \n",
       "           1358              4.806341         51.491362   \n",
       "           1359              5.022959         51.490706   \n",
       "           1360              5.095163         51.490399   \n",
       "\n",
       "                     max_daily_temperature  min_daily_temperature  \\\n",
       "DATE       PIXEL_ID                                                 \n",
       "1994-01-01 1                           4.1                    2.3   \n",
       "           2                           3.3                    2.4   \n",
       "           3                           2.5                    2.4   \n",
       "           4                           2.7                    2.2   \n",
       "           5                           3.3                    2.2   \n",
       "...                                    ...                    ...   \n",
       "           1356                        4.7                    0.8   \n",
       "           1357                        4.9                    1.0   \n",
       "           1358                        4.8                    1.0   \n",
       "           1359                        4.7                    1.2   \n",
       "           1360                        4.7                    1.3   \n",
       "\n",
       "                     precipitation  Potential_evapotranspiration  \\\n",
       "DATE       PIXEL_ID                                                \n",
       "1994-01-01 1                  10.4                           0.4   \n",
       "           2                  10.0                           0.4   \n",
       "           3                   9.6                           0.4   \n",
       "           4                   9.7                           0.4   \n",
       "           5                  10.3                           0.4   \n",
       "...                            ...                           ...   \n",
       "           1356                9.5                           0.4   \n",
       "           1357                9.8                           0.4   \n",
       "           1358                9.5                           0.4   \n",
       "           1359                8.1                           0.3   \n",
       "           1360                7.9                           0.3   \n",
       "\n",
       "                     global_radiation_kwh/m2/day  wind_speed_m/s  lambert_x  \\\n",
       "DATE       PIXEL_ID                                                           \n",
       "1994-01-01 1                                0.37             4.9      62500   \n",
       "           2                                0.34             4.9      67500   \n",
       "           3                                0.34             4.9      72500   \n",
       "           4                                0.40             4.9      77500   \n",
       "           5                                0.38             4.9      62500   \n",
       "...                                          ...             ...        ...   \n",
       "           1356                             0.59             4.5      -2500   \n",
       "           1357                             0.61             4.4      12500   \n",
       "           1358                             0.60             4.4      17500   \n",
       "           1359                             0.65             4.4      32500   \n",
       "           1360                             0.63             4.3      37500   \n",
       "\n",
       "                      lambert_y     lat    lon    lambert72_x    lambert72_y  \\\n",
       "DATE       PIXEL_ID                                                            \n",
       "1994-01-01 1         6218014.18  49.510  5.419  226066.415779   22556.879670   \n",
       "           2         6218014.18  49.509  5.488  231065.107850   22518.715067   \n",
       "           3         6218014.18  49.509  5.558  236134.576126   22597.572678   \n",
       "           4         6218014.18  49.508  5.627  241133.434307   22568.767442   \n",
       "           5         6223014.18  49.555  5.420  226067.928965   27562.717350   \n",
       "...                         ...     ...    ...            ...            ...   \n",
       "           1356      6438014.18  51.492  4.518  160365.917778  242501.680727   \n",
       "           1357      6438014.18  51.491  4.734  175369.506981  242442.534102   \n",
       "           1358      6438014.18  51.491  4.806  180370.587028  242469.606639   \n",
       "           1359      6438014.18  51.491  5.023  195443.094743  242580.532830   \n",
       "           1360      6438014.18  51.490  5.095  200445.121019  242515.807827   \n",
       "\n",
       "                     mean_daily_temperature  \n",
       "DATE       PIXEL_ID                          \n",
       "1994-01-01 1                           3.20  \n",
       "           2                           2.85  \n",
       "           3                           2.45  \n",
       "           4                           2.45  \n",
       "           5                           2.75  \n",
       "...                                     ...  \n",
       "           1356                        2.75  \n",
       "           1357                        2.95  \n",
       "           1358                        2.90  \n",
       "           1359                        2.95  \n",
       "           1360                        3.00  \n",
       "\n",
       "[1360 rows x 15 columns]"
      ]
     },
     "execution_count": 6,
     "metadata": {},
     "output_type": "execute_result"
    }
   ],
   "source": [
    "climate_data_df[\"1994-01-01\":\"1994-01-01\"]"
   ]
  },
  {
   "cell_type": "markdown",
   "metadata": {},
   "source": [
    "#### Correct projected coordinates\n",
    ">The projected coordinates do not form an aligned grid i.e the step sizes are not exactly equal to the resolution of the dataset (5000).  \n",
    ">Here is how they are aligned: from each grid value, the min x and y (lowest left corner of the grid) are subtracted and then the difference rounded off to the nearest 5000. This rounded difference is then added to the min x and y values."
   ]
  },
  {
   "cell_type": "code",
   "execution_count": 31,
   "metadata": {},
   "outputs": [],
   "source": [
    "#extract the minimum and maximum values of the x and y coordinates\n",
    "min_x, min_y=climate_data_df[\"1994-01-01\":\"1994-01-01\"]['lambert72_x'].min(), climate_data_df[\"1994-01-01\":\"1994-01-01\"]['lambert72_y'].min()\n",
    "\n",
    "#these coordinates are slightly off the  centre of the grid. Hard code it using  values from QGIS\n",
    "min_x_corr, min_y_corr= 20008.54285,22518.71507\n",
    "max_x_corr, max_y_corr= 296031.0126,242580.5328\n",
    "\n",
    "#calculate deviation from the minimum values as absolute values\n",
    "# climate_data_df['lambert72_x']-=min_x_corr \n",
    "# climate_data_df['lambert72_y']-=min_y_corr\n",
    "\n",
    "#calculate the deviation of lambert72_x and lambert72_y from the maximum values\n",
    "climate_data_df['lambert72_x']=max_x_corr-climate_data_df['lambert72_x']\n",
    "climate_data_df['lambert72_y']=max_y_corr-climate_data_df['lambert72_y']\n",
    "\n",
    "# #round the x and y coordinates to the nearest gridsize (5000)\n",
    "climate_data_df['lambert72_x']=abs(climate_data_df['lambert72_x']//5000)*5000 #abs is used to round negative numbers to the nearest 5000\n",
    "climate_data_df['lambert72_y']=abs(climate_data_df['lambert72_y']//5000)*5000\n",
    "\n",
    "# # #add the rounded x and y coordinates to the minimum values\n",
    "climate_data_df['lambert72_x']=max_x_corr-climate_data_df['lambert72_x']\n",
    "climate_data_df['lambert72_y']=max_y_corr-climate_data_df['lambert72_y']"
   ]
  },
  {
   "cell_type": "code",
   "execution_count": 8,
   "metadata": {},
   "outputs": [
    {
     "data": {
      "text/plain": [
       "(20008.542846339362, 20008.54285, 22518.71507)"
      ]
     },
     "execution_count": 8,
     "metadata": {},
     "output_type": "execute_result"
    }
   ],
   "source": [
    "min_x,min_x_corr, min_y_corr"
   ]
  },
  {
   "cell_type": "code",
   "execution_count": 9,
   "metadata": {},
   "outputs": [
    {
     "data": {
      "text/plain": [
       "(21031.012600000016, 296031.0126)"
      ]
     },
     "execution_count": 9,
     "metadata": {},
     "output_type": "execute_result"
    }
   ],
   "source": [
    "(climate_data_df['lambert72_x'].min(),climate_data_df['lambert72_x'].max())"
   ]
  },
  {
   "cell_type": "code",
   "execution_count": 10,
   "metadata": {},
   "outputs": [
    {
     "data": {
      "text/plain": [
       "21031.012600000016"
      ]
     },
     "execution_count": 10,
     "metadata": {},
     "output_type": "execute_result"
    }
   ],
   "source": [
    "climate_data_df['lambert72_x'].min()"
   ]
  },
  {
   "cell_type": "code",
   "execution_count": 11,
   "metadata": {},
   "outputs": [
    {
     "data": {
      "text/plain": [
       "(22580.532799999986, 242580.5328)"
      ]
     },
     "execution_count": 11,
     "metadata": {},
     "output_type": "execute_result"
    }
   ],
   "source": [
    "(climate_data_df['lambert72_y'].min(),climate_data_df['lambert72_y'].max())"
   ]
  },
  {
   "cell_type": "markdown",
   "metadata": {},
   "source": [
    "### Transform dataframe to gridded data"
   ]
  },
  {
   "cell_type": "code",
   "execution_count": 12,
   "metadata": {},
   "outputs": [],
   "source": [
    "#STEPS\n",
    "# create a date list..\n",
    "#create a pivot table corresponding to each date..\n",
    "#convert the data to a numpy array\n",
    "#convert the array to a xarray dataset\n",
    "#store the xarray datasets in a list and then concatenate them along the time dimension\n",
    "#save the xarray dataset to a netcdf file"
   ]
  },
  {
   "cell_type": "code",
   "execution_count": 32,
   "metadata": {},
   "outputs": [],
   "source": [
    "#gridded values\n",
    "# Calculate step sizes based on resolution of the dataset\n",
    "x_step = 5000  # Step size for x_in\n",
    "y_step = 5000  # Step size for y_in\n",
    "\n",
    "# Define input data grid, the grid defines the center of the pixels (somehow I am amazed by this. I supposed the grid would have needed to be shifted by half the pixel size to align with the pixel edges)\n",
    "#I plotted this data on QGIS and it seems to be correct. The grid is aligned with the pixel centers.\n",
    "\n",
    "x_in = np.arange(climate_data_df[\"lambert_x\"].min(), climate_data_df[\"lambert_x\"].max() + x_step, x_step) #np.arange is exclusive of the stop value so need to half the additional to the max values.\n",
    "y_in = np.arange(climate_data_df[\"lambert_y\"].min(), climate_data_df[\"lambert_y\"].max() + y_step, y_step)\n",
    "\n",
    "#create a date list and calculate length of data using the date index (level 0)\n",
    "start_date = climate_data_df.index.levels[0][0]\n",
    "len_data=len(climate_data_df.index.levels[0])\n",
    "date_list = pd.date_range(start=start_date, periods=len_data, freq='D')\n",
    "units=['°C', '°C', 'mm', 'mm', 'kWh/m2/day', 'm/s', '°C']\n",
    "\n",
    "dataset_list = []\n",
    "\n",
    "# Loop through the climate variables and their corresponding units\n",
    "for variable, unit in zip(climate_variables, units):\n",
    "    \n",
    "    x_array_list = [] # List to store daily DataArrays\n",
    "    for date, data in climate_data_df.groupby(level=0):\n",
    "        #select the coordinates and convert to an np array\n",
    "        data_grid=data.pivot_table(index='lambert_y', columns='lambert_x', values=variable)\n",
    "\n",
    "        # Convert the grid to xarray DataArray using -1 aligns the values with the pixel edges up the second to last value\n",
    "        daily_data_array = xr.DataArray(data_grid, coords=[y_in, x_in], dims=['lat', 'lon'])\n",
    "\n",
    "        #data type as float32\n",
    "        daily_data_array.astype(np.float32)\n",
    "\n",
    "        # Append the DataArray to the list\n",
    "        x_array_list.append(daily_data_array)\n",
    "\n",
    "    # Concatenate the DataArrays along the time dimension\n",
    "    x_data_array = xr.concat(x_array_list, dim='time')\n",
    "\n",
    "    # Add the date list as a coordinate\n",
    "    x_data_array['time'] = date_list\n",
    "    x_data_array.name = variable\n",
    "\n",
    "    #transform to a dataset\n",
    "    dataset = x_data_array.to_dataset(name=variable)\n",
    "    x_data_array.attrs['units'] = unit\n",
    "    x_data_array.attrs['long_name'] = variable\n",
    "    x_data_array.attrs['crs'] = 'EPSG:31370'\n",
    "    x_data_array.attrs['history'] = f'created by {os.getlogin()} on {pd.Timestamp.now()}'\n",
    "\n",
    "    # Append the DataArray to the list\n",
    "    dataset_list.append(dataset)"
   ]
  },
  {
   "cell_type": "markdown",
   "metadata": {},
   "source": [
    "##### Assign BL72 coordinates (non-negative)"
   ]
  },
  {
   "cell_type": "code",
   "execution_count": 35,
   "metadata": {},
   "outputs": [],
   "source": [
    "# Define input data grid. the data seems to be in the same grid so we can use the same x and y values without recalculating the edges.\n",
    "#The grids are shifted to fit the pixel edges by default.\n",
    "x_in_corrected = np.arange(climate_data_df[\"lambert72_x\"].min(), climate_data_df[\"lambert72_x\"].max()+x_step, x_step)-430 #430 is the average difference between the raw projections and the projections rounded off to the nearest 5000\n",
    "y_in_corrected = np.arange(climate_data_df[\"lambert72_y\"].min(), climate_data_df[\"lambert72_y\"].max()+y_step, y_step)-128.6 #same as above. This pushes the grid to the left and up to align with the pixel edges\n",
    "\n",
    "\n",
    "for dataset,unit in zip(dataset_list,units):\n",
    "    #assign the lambert72_x and lambert72_y coordinates \n",
    "    dataset['lat'] = y_in_corrected\n",
    "    dataset['lon'] = x_in_corrected\n",
    "    #assign the crs\n",
    "    dataset.attrs['crs'] = 'EPSG:31370'\n",
    "    dataset.attrs['units'] = unit\n",
    "    dataset.attrs['history'] = f'created by {os.getlogin()} on {pd.Timestamp.now()}'"
   ]
  },
  {
   "cell_type": "markdown",
   "metadata": {},
   "source": [
    "### Export dataset as netCDF"
   ]
  },
  {
   "cell_type": "code",
   "execution_count": 46,
   "metadata": {},
   "outputs": [
    {
     "name": "stdout",
     "output_type": "stream",
     "text": [
      "Available keys in merged_dataset:\n",
      "['max_daily_temperature', 'min_daily_temperature', 'precipitation', 'Potential_evapotranspiration', 'global_radiation', 'wind_speed', 'mean_daily_temperature']\n"
     ]
    }
   ],
   "source": [
    "#save the dataset to a netcdf file\n",
    "merged_dataset=xr.merge(dataset_list)\n",
    "\n",
    "# Print all keys to verify the existence of the required key\n",
    "print(\"Available keys in merged_dataset:\")\n",
    "print(list(merged_dataset.data_vars))\n",
    "\n",
    "merged_dataset.to_netcdf(\"W:/VUB/main_research/data/RMI/climate_data_5km.nc\")"
   ]
  },
  {
   "cell_type": "markdown",
   "metadata": {},
   "source": [
    "#### Export point csv"
   ]
  },
  {
   "cell_type": "code",
   "execution_count": 53,
   "metadata": {},
   "outputs": [],
   "source": [
    "#Boechout\n",
    "x,y=161367.1,206609.1\n",
    "\n",
    "#extract each variable from the dataset\n",
    "variables=list(merged_dataset.data_vars)\n",
    "#extract the data for Boechout\n",
    "df_list=[]\n",
    "for variable in variables:\n",
    "    data=merged_dataset[variable].sel(lat=y, lon=x, method='nearest')\n",
    "    data_df= data.to_dataframe().drop(columns=['lat', 'lon'])\n",
    "    df_list.append(data_df)\n",
    "\n",
    "#concatenate the dataframes\n",
    "boechout_climate_data_df=pd.concat(df_list, axis=1)\n",
    "boechout_climate_data_df.to_csv(f\"W:/VUB/main_research/data/RMI/boechout_climate_data.csv\")"
   ]
  },
  {
   "cell_type": "markdown",
   "metadata": {},
   "source": [
    "#### Write data to GeoTiff"
   ]
  },
  {
   "cell_type": "code",
   "execution_count": 15,
   "metadata": {},
   "outputs": [],
   "source": [
    "bT = dataset['mean_daily_temperature']\n",
    "bT.rio.set_spatial_dims(x_dim='lon', y_dim='lat')\n",
    "bT.rio.crs\n",
    "#set the crs\n",
    "bT.rio.write_crs(\"EPSG:31370\", inplace=True)\n",
    "\n",
    "#set number of bands\n",
    "bT.rio.to_raster(r\"mean_temp_corrected_centred.tif\", compress='LZW', dtype='float32')"
   ]
  },
  {
   "cell_type": "markdown",
   "metadata": {},
   "source": [
    "#### Check if points are correctly mapped"
   ]
  },
  {
   "cell_type": "code",
   "execution_count": null,
   "metadata": {},
   "outputs": [],
   "source": [
    "#search for a value at specific index   and check if the value is the same as the one in the dataframe\n",
    "# Define the coordinates of the point of interest\n",
    "x_point, y_point = 72500, 6218014.18\n",
    "\n",
    "data_grid.columns.get_loc(x_point) #last variable in the loop\n",
    "data_grid.index.get_loc(y_point)\n",
    "\n",
    "data_grid.loc[y_point, x_point]\n",
    " #check if the value is the same as the one in the dataframe\n",
    "# Filter the DataFrame for the specific latitude and longitude\n",
    "df=climate_data_df.tail(1360) #select the last 1360 rows (values for the last date)\n",
    "\n",
    "result = df[(df['lambert_x'] == x_point) & (df['lambert_y'] == y_point)]['wind speed (m/s)'].values[0]\n",
    "result, data_grid.loc[y_point, x_point]"
   ]
  },
  {
   "cell_type": "markdown",
   "metadata": {},
   "source": [
    "#### (Optional) Bilinear interpolation"
   ]
  },
  {
   "cell_type": "code",
   "execution_count": null,
   "metadata": {},
   "outputs": [],
   "source": [
    "# For the interpolated output grid, more refined\n",
    "\"\"\"\n",
    "\n",
    "x_out_step = 2000  # Step for output grid\n",
    "y_out_step = 2000\n",
    "\n",
    "x_out = np.arange(x_in.min(),x_in.max()+x_out_step, x_out_step) #end exclusive\n",
    "y_out = np.arange(y_in.max(),y_in.min()-y_out_step, -y_out_step) #reverse the y_out array to start from the top and - y_out_step to go down. End EXCLUSIVE\n",
    "\n",
    "# Ensure f_in is the grid of values\n",
    "f_in =data_grid.to_numpy()\n",
    "\n",
    "# Ensure bilinear_interpolation is defined to handle this grid setup correctly\n",
    "f_out = bilinear_interpolation(x_in, y_in, f_in, x_out, y_out)\n",
    "\n",
    "\"\"\""
   ]
  }
 ],
 "metadata": {
  "kernelspec": {
   "display_name": "multipurpose",
   "language": "python",
   "name": "python3"
  },
  "language_info": {
   "codemirror_mode": {
    "name": "ipython",
    "version": 3
   },
   "file_extension": ".py",
   "mimetype": "text/x-python",
   "name": "python",
   "nbconvert_exporter": "python",
   "pygments_lexer": "ipython3",
   "version": "3.11.5"
  }
 },
 "nbformat": 4,
 "nbformat_minor": 2
}
