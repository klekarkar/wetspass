{
 "cells": [
  {
   "cell_type": "code",
   "execution_count": 2,
   "metadata": {},
   "outputs": [],
   "source": [
    "#import libraries\n",
    "import os\n",
    "from osgeo import gdal\n",
    "import datetime\n",
    "from datetime import datetime, timedelta\n",
    "from mpl_toolkits.mplot3d import Axes3D\n",
    "import subprocess\n",
    "from wetspass_inputs_funcs import * #import all functions from wetspass_inputs_funcs.py"
   ]
  },
  {
   "cell_type": "code",
   "execution_count": 3,
   "metadata": {},
   "outputs": [],
   "source": [
    "#set the font type\n",
    "plt.rcParams['font.family'] = 'Arial'"
   ]
  },
  {
   "cell_type": "markdown",
   "metadata": {},
   "source": [
    "#### Prepare gridded Wetspass data for the study area\n",
    "\n",
    "\n",
    "For PET, create a df of required meteorological variables: RHmean, Tmax, Tmin and wind speed.    \n",
    "Also include a column for the date to get the day of the year.  \n",
    "Solar radiation is computed from the location and elevation of the studya area.  "
   ]
  },
  {
   "cell_type": "code",
   "execution_count": 4,
   "metadata": {},
   "outputs": [],
   "source": [
    "#read in the inputs\n",
    "src_path=r\"W:/VUB/IP_2024/data/weather_data\"\n",
    "\n",
    "rainfall=pd.read_csv(src_path+\"/1.pcp\", delim_whitespace=True, skiprows=3,header=None, names=['year', 'jday','rain'])\n",
    "hmd=pd.read_csv(src_path+\"/1.hmd\", delim_whitespace=True, skiprows=3,header=None, names=['year', 'jday','hmd'])\n",
    "temp=pd.read_csv(src_path+\"/1.tmp\", delim_whitespace=True, skiprows=3,header=None, names=['year', 'jday','Tmax','Tmin'])\n",
    "wind=pd.read_csv(src_path+\"/1.wnd\", delim_whitespace=True, skiprows=3,header=None, names=['year', 'jday','wind'])\n",
    "\n",
    "#assign dates to files\n",
    "#resample to monthly\n",
    "#write to grids\n",
    "#compute pet\\"
   ]
  },
  {
   "cell_type": "markdown",
   "metadata": {},
   "source": [
    "#### Assign dates to dataframes"
   ]
  },
  {
   "cell_type": "code",
   "execution_count": 5,
   "metadata": {},
   "outputs": [],
   "source": [
    "#assign dates to dataframes\n",
    "def convert_to_date_vectorized(df):\n",
    "    # Vectorized operation to convert year and Julian day to datetime\n",
    "    df['date'] = pd.to_datetime(df['year'].astype(int), format='%Y') + pd.to_timedelta(df['jday'].astype(int) - 1, unit='D')\n",
    "    df.set_index('date', inplace=True)\n",
    "\n",
    "dfs_list = [rainfall, hmd, temp, wind]\n",
    "\n",
    "for df in dfs_list:\n",
    "    convert_to_date_vectorized(df)"
   ]
  },
  {
   "cell_type": "markdown",
   "metadata": {},
   "source": [
    "#### Concatenate dataframes (Tmax, Tmin, wind, hmd) for PET computations"
   ]
  },
  {
   "cell_type": "code",
   "execution_count": 6,
   "metadata": {},
   "outputs": [
    {
     "data": {
      "text/html": [
       "<div>\n",
       "<style scoped>\n",
       "    .dataframe tbody tr th:only-of-type {\n",
       "        vertical-align: middle;\n",
       "    }\n",
       "\n",
       "    .dataframe tbody tr th {\n",
       "        vertical-align: top;\n",
       "    }\n",
       "\n",
       "    .dataframe thead th {\n",
       "        text-align: right;\n",
       "    }\n",
       "</style>\n",
       "<table border=\"1\" class=\"dataframe\">\n",
       "  <thead>\n",
       "    <tr style=\"text-align: right;\">\n",
       "      <th></th>\n",
       "      <th>jday</th>\n",
       "      <th>year</th>\n",
       "      <th>Tmax</th>\n",
       "      <th>Tmin</th>\n",
       "      <th>Tmean</th>\n",
       "      <th>hmd_perc</th>\n",
       "      <th>wind</th>\n",
       "    </tr>\n",
       "    <tr>\n",
       "      <th>date</th>\n",
       "      <th></th>\n",
       "      <th></th>\n",
       "      <th></th>\n",
       "      <th></th>\n",
       "      <th></th>\n",
       "      <th></th>\n",
       "      <th></th>\n",
       "    </tr>\n",
       "  </thead>\n",
       "  <tbody>\n",
       "    <tr>\n",
       "      <th>1970-01-01</th>\n",
       "      <td>1</td>\n",
       "      <td>1970</td>\n",
       "      <td>-0.7400</td>\n",
       "      <td>-8.2917</td>\n",
       "      <td>-4.51585</td>\n",
       "      <td>84.44</td>\n",
       "      <td>3.273333</td>\n",
       "    </tr>\n",
       "    <tr>\n",
       "      <th>1970-01-02</th>\n",
       "      <td>2</td>\n",
       "      <td>1970</td>\n",
       "      <td>3.5383</td>\n",
       "      <td>-8.7367</td>\n",
       "      <td>-2.59920</td>\n",
       "      <td>94.65</td>\n",
       "      <td>6.701667</td>\n",
       "    </tr>\n",
       "    <tr>\n",
       "      <th>1970-01-03</th>\n",
       "      <td>3</td>\n",
       "      <td>1970</td>\n",
       "      <td>3.4050</td>\n",
       "      <td>-1.3717</td>\n",
       "      <td>1.01665</td>\n",
       "      <td>96.30</td>\n",
       "      <td>2.721667</td>\n",
       "    </tr>\n",
       "    <tr>\n",
       "      <th>1970-01-04</th>\n",
       "      <td>4</td>\n",
       "      <td>1970</td>\n",
       "      <td>1.8833</td>\n",
       "      <td>-2.5850</td>\n",
       "      <td>-0.35085</td>\n",
       "      <td>90.65</td>\n",
       "      <td>2.365000</td>\n",
       "    </tr>\n",
       "    <tr>\n",
       "      <th>1970-01-05</th>\n",
       "      <td>5</td>\n",
       "      <td>1970</td>\n",
       "      <td>1.8967</td>\n",
       "      <td>-3.5450</td>\n",
       "      <td>-0.82415</td>\n",
       "      <td>92.38</td>\n",
       "      <td>3.585000</td>\n",
       "    </tr>\n",
       "  </tbody>\n",
       "</table>\n",
       "</div>"
      ],
      "text/plain": [
       "            jday  year    Tmax    Tmin    Tmean  hmd_perc      wind\n",
       "date                                                               \n",
       "1970-01-01     1  1970 -0.7400 -8.2917 -4.51585     84.44  3.273333\n",
       "1970-01-02     2  1970  3.5383 -8.7367 -2.59920     94.65  6.701667\n",
       "1970-01-03     3  1970  3.4050 -1.3717  1.01665     96.30  2.721667\n",
       "1970-01-04     4  1970  1.8833 -2.5850 -0.35085     90.65  2.365000\n",
       "1970-01-05     5  1970  1.8967 -3.5450 -0.82415     92.38  3.585000"
      ]
     },
     "execution_count": 6,
     "metadata": {},
     "output_type": "execute_result"
    }
   ],
   "source": [
    "#calculate Tmean and convert hmd to percentage\n",
    "# Identifying rows where Tmax is less than Tmin\n",
    "mask = temp['Tmax'] < temp['Tmin']\n",
    "\n",
    "# # Swapping Tmax and Tmin for these rows\n",
    "temp.loc[mask, ['Tmax', 'Tmin']] = temp.loc[mask, ['Tmin', 'Tmax']].values\n",
    "# # Calculate Tmean\n",
    "temp['Tmean']=temp[['Tmax','Tmin']].mean(axis=1)\n",
    "#convert hmd to percentage\n",
    "hmd['hmd_perc']=hmd['hmd']*100\n",
    "\n",
    "#concatenate dfs required for pet calculation\n",
    "df_pet_vars=pd.concat([temp['jday'],temp['year'],temp['Tmax'],temp['Tmin'],temp['Tmean'],hmd['hmd_perc'], wind['wind']],axis=1, join='inner')\n",
    "df_pet_vars.head()"
   ]
  },
  {
   "cell_type": "markdown",
   "metadata": {},
   "source": [
    "#### Define static PET variables and compute daily PET"
   ]
  },
  {
   "cell_type": "code",
   "execution_count": 7,
   "metadata": {},
   "outputs": [],
   "source": [
    "#static inputs for pet calculation\n",
    "lat=51.17 #latitude of study area in degrees\n",
    "elev=13.36 #average elevation of study area in meters\n",
    "z=2.0 #assumed height of wind speed measurement in meters\n",
    "\n",
    "\"\"\"\n",
    "Compute pet, pass the variables in the same order as the function: \n",
    "Compute_penman_monteith_ETo(latitude, day_of_year, elevation, Tmax, Tmin, Tmean, RHmean, uz, z):\n",
    "\"\"\"\n",
    "\n",
    "df_pet_vars['pet']=df_pet_vars.apply(lambda row: compute_penman_monteith_ETo(lat,\n",
    "                                     row['jday'], elev, row['Tmax'], row['Tmin'],\n",
    "                                     row['Tmean'], row['hmd_perc'], row['wind'], z), axis=1)"
   ]
  },
  {
   "cell_type": "code",
   "execution_count": null,
   "metadata": {},
   "outputs": [],
   "source": [
    "df_pet_vars['pet'].to_csv(src_path+\"/pet.csv\")"
   ]
  },
  {
   "cell_type": "code",
   "execution_count": 8,
   "metadata": {},
   "outputs": [
    {
     "data": {
      "text/html": [
       "<div>\n",
       "<style scoped>\n",
       "    .dataframe tbody tr th:only-of-type {\n",
       "        vertical-align: middle;\n",
       "    }\n",
       "\n",
       "    .dataframe tbody tr th {\n",
       "        vertical-align: top;\n",
       "    }\n",
       "\n",
       "    .dataframe thead th {\n",
       "        text-align: right;\n",
       "    }\n",
       "</style>\n",
       "<table border=\"1\" class=\"dataframe\">\n",
       "  <thead>\n",
       "    <tr style=\"text-align: right;\">\n",
       "      <th></th>\n",
       "      <th>jday</th>\n",
       "      <th>year</th>\n",
       "      <th>Tmax</th>\n",
       "      <th>Tmin</th>\n",
       "      <th>Tmean</th>\n",
       "      <th>hmd_perc</th>\n",
       "      <th>wind</th>\n",
       "      <th>pet</th>\n",
       "    </tr>\n",
       "    <tr>\n",
       "      <th>date</th>\n",
       "      <th></th>\n",
       "      <th></th>\n",
       "      <th></th>\n",
       "      <th></th>\n",
       "      <th></th>\n",
       "      <th></th>\n",
       "      <th></th>\n",
       "      <th></th>\n",
       "    </tr>\n",
       "  </thead>\n",
       "  <tbody>\n",
       "    <tr>\n",
       "      <th>1970-01-01</th>\n",
       "      <td>1</td>\n",
       "      <td>1970</td>\n",
       "      <td>-0.7400</td>\n",
       "      <td>-8.2917</td>\n",
       "      <td>-4.51585</td>\n",
       "      <td>84.44</td>\n",
       "      <td>3.273333</td>\n",
       "      <td>0.408286</td>\n",
       "    </tr>\n",
       "    <tr>\n",
       "      <th>1970-01-02</th>\n",
       "      <td>2</td>\n",
       "      <td>1970</td>\n",
       "      <td>3.5383</td>\n",
       "      <td>-8.7367</td>\n",
       "      <td>-2.59920</td>\n",
       "      <td>94.65</td>\n",
       "      <td>6.701667</td>\n",
       "      <td>0.450343</td>\n",
       "    </tr>\n",
       "    <tr>\n",
       "      <th>1970-01-03</th>\n",
       "      <td>3</td>\n",
       "      <td>1970</td>\n",
       "      <td>3.4050</td>\n",
       "      <td>-1.3717</td>\n",
       "      <td>1.01665</td>\n",
       "      <td>96.30</td>\n",
       "      <td>2.721667</td>\n",
       "      <td>0.230127</td>\n",
       "    </tr>\n",
       "    <tr>\n",
       "      <th>1970-01-04</th>\n",
       "      <td>4</td>\n",
       "      <td>1970</td>\n",
       "      <td>1.8833</td>\n",
       "      <td>-2.5850</td>\n",
       "      <td>-0.35085</td>\n",
       "      <td>90.65</td>\n",
       "      <td>2.365000</td>\n",
       "      <td>0.320614</td>\n",
       "    </tr>\n",
       "    <tr>\n",
       "      <th>1970-01-05</th>\n",
       "      <td>5</td>\n",
       "      <td>1970</td>\n",
       "      <td>1.8967</td>\n",
       "      <td>-3.5450</td>\n",
       "      <td>-0.82415</td>\n",
       "      <td>92.38</td>\n",
       "      <td>3.585000</td>\n",
       "      <td>0.317331</td>\n",
       "    </tr>\n",
       "  </tbody>\n",
       "</table>\n",
       "</div>"
      ],
      "text/plain": [
       "            jday  year    Tmax    Tmin    Tmean  hmd_perc      wind       pet\n",
       "date                                                                         \n",
       "1970-01-01     1  1970 -0.7400 -8.2917 -4.51585     84.44  3.273333  0.408286\n",
       "1970-01-02     2  1970  3.5383 -8.7367 -2.59920     94.65  6.701667  0.450343\n",
       "1970-01-03     3  1970  3.4050 -1.3717  1.01665     96.30  2.721667  0.230127\n",
       "1970-01-04     4  1970  1.8833 -2.5850 -0.35085     90.65  2.365000  0.320614\n",
       "1970-01-05     5  1970  1.8967 -3.5450 -0.82415     92.38  3.585000  0.317331"
      ]
     },
     "execution_count": 8,
     "metadata": {},
     "output_type": "execute_result"
    }
   ],
   "source": [
    "df_pet_vars.head()"
   ]
  },
  {
   "cell_type": "markdown",
   "metadata": {},
   "source": [
    "#### (Optional) Resample to monthly PET"
   ]
  },
  {
   "cell_type": "code",
   "execution_count": 10,
   "metadata": {},
   "outputs": [],
   "source": [
    "#pivot the dataframe to days of each year\n",
    "df_pet_month_mean=df_pet_vars.resample('M').mean()\n",
    "df_pet_month_sum=df_pet_vars.resample('M').sum()\n",
    "df_pet_month_mean['year']=df_pet_month_mean.index.year\n",
    "df_pet_month_sum['year']=df_pet_month_sum.index.year\n",
    "\n",
    "df_pet_month_mean['month']=df_pet_month_mean.index.month\n",
    "df_pivot=df_pet_month_mean.pivot_table(index=['month'], columns='year', values='pet')"
   ]
  },
  {
   "cell_type": "code",
   "execution_count": 54,
   "metadata": {},
   "outputs": [
    {
     "data": {
      "text/html": [
       "<div>\n",
       "<style scoped>\n",
       "    .dataframe tbody tr th:only-of-type {\n",
       "        vertical-align: middle;\n",
       "    }\n",
       "\n",
       "    .dataframe tbody tr th {\n",
       "        vertical-align: top;\n",
       "    }\n",
       "\n",
       "    .dataframe thead th {\n",
       "        text-align: right;\n",
       "    }\n",
       "</style>\n",
       "<table border=\"1\" class=\"dataframe\">\n",
       "  <thead>\n",
       "    <tr style=\"text-align: right;\">\n",
       "      <th></th>\n",
       "      <th>jday</th>\n",
       "      <th>year</th>\n",
       "      <th>Tmax</th>\n",
       "      <th>Tmin</th>\n",
       "      <th>Tmean</th>\n",
       "      <th>hmd_perc</th>\n",
       "      <th>wind</th>\n",
       "      <th>pet</th>\n",
       "    </tr>\n",
       "    <tr>\n",
       "      <th>date</th>\n",
       "      <th></th>\n",
       "      <th></th>\n",
       "      <th></th>\n",
       "      <th></th>\n",
       "      <th></th>\n",
       "      <th></th>\n",
       "      <th></th>\n",
       "      <th></th>\n",
       "    </tr>\n",
       "  </thead>\n",
       "  <tbody>\n",
       "    <tr>\n",
       "      <th>2021-08-31</th>\n",
       "      <td>7068</td>\n",
       "      <td>2021</td>\n",
       "      <td>661.7267</td>\n",
       "      <td>429.6267</td>\n",
       "      <td>545.67670</td>\n",
       "      <td>2420.49</td>\n",
       "      <td>100.890000</td>\n",
       "      <td>97.101369</td>\n",
       "    </tr>\n",
       "    <tr>\n",
       "      <th>2021-09-30</th>\n",
       "      <td>7755</td>\n",
       "      <td>2021</td>\n",
       "      <td>648.9433</td>\n",
       "      <td>344.5766</td>\n",
       "      <td>496.75995</td>\n",
       "      <td>2321.21</td>\n",
       "      <td>83.901667</td>\n",
       "      <td>80.339605</td>\n",
       "    </tr>\n",
       "    <tr>\n",
       "      <th>2021-10-31</th>\n",
       "      <td>8959</td>\n",
       "      <td>2021</td>\n",
       "      <td>490.6652</td>\n",
       "      <td>230.3533</td>\n",
       "      <td>360.50925</td>\n",
       "      <td>2564.41</td>\n",
       "      <td>109.928333</td>\n",
       "      <td>46.474753</td>\n",
       "    </tr>\n",
       "    <tr>\n",
       "      <th>2021-11-30</th>\n",
       "      <td>9585</td>\n",
       "      <td>2021</td>\n",
       "      <td>298.9017</td>\n",
       "      <td>102.3034</td>\n",
       "      <td>200.60255</td>\n",
       "      <td>2605.87</td>\n",
       "      <td>90.688333</td>\n",
       "      <td>22.129724</td>\n",
       "    </tr>\n",
       "    <tr>\n",
       "      <th>2021-12-31</th>\n",
       "      <td>10850</td>\n",
       "      <td>2021</td>\n",
       "      <td>252.2236</td>\n",
       "      <td>97.6100</td>\n",
       "      <td>174.91680</td>\n",
       "      <td>2750.21</td>\n",
       "      <td>110.943333</td>\n",
       "      <td>17.826120</td>\n",
       "    </tr>\n",
       "  </tbody>\n",
       "</table>\n",
       "</div>"
      ],
      "text/plain": [
       "             jday  year      Tmax      Tmin      Tmean  hmd_perc        wind  \\\n",
       "date                                                                           \n",
       "2021-08-31   7068  2021  661.7267  429.6267  545.67670   2420.49  100.890000   \n",
       "2021-09-30   7755  2021  648.9433  344.5766  496.75995   2321.21   83.901667   \n",
       "2021-10-31   8959  2021  490.6652  230.3533  360.50925   2564.41  109.928333   \n",
       "2021-11-30   9585  2021  298.9017  102.3034  200.60255   2605.87   90.688333   \n",
       "2021-12-31  10850  2021  252.2236   97.6100  174.91680   2750.21  110.943333   \n",
       "\n",
       "                  pet  \n",
       "date                   \n",
       "2021-08-31  97.101369  \n",
       "2021-09-30  80.339605  \n",
       "2021-10-31  46.474753  \n",
       "2021-11-30  22.129724  \n",
       "2021-12-31  17.826120  "
      ]
     },
     "execution_count": 54,
     "metadata": {},
     "output_type": "execute_result"
    }
   ],
   "source": [
    "df_pet_month_sum.tail()"
   ]
  },
  {
   "cell_type": "markdown",
   "metadata": {},
   "source": [
    "### Plotting"
   ]
  },
  {
   "cell_type": "code",
   "execution_count": 55,
   "metadata": {},
   "outputs": [
    {
     "data": {
      "image/png": "[encoded data removed]",
      "text/plain": [
       "<Figure size 840x300 with 1 Axes>"
      ]
     },
     "metadata": {},
     "output_type": "display_data"
    }
   ],
   "source": [
    "fig, ax = plt.subplots(figsize=(7, 2.5), dpi=120)\n",
    "\n",
    "# Plotting the data for selected years\n",
    "for i in range(len(df_pivot.columns)):\n",
    "    ax.plot(df_pivot.iloc[:,7], label=df_pivot.columns[0], linestyle='dashed', color='m', linewidth=0.4)\n",
    "    ax.plot(df_pivot.iloc[:,i], linewidth=0.6, alpha=0.6, color='gray')\n",
    "    # Setting x-ticks and x-tick labels\n",
    "    ax.set_xticks(np.arange(1, 13, 1))\n",
    "    ax.set_xticklabels(['Jan', 'Feb', 'Mar', 'Apr', 'May', 'Jun', 'Jul', 'Aug', 'Sep', 'Oct', 'Nov', 'Dec'], fontsize=8)\n",
    "    ax.grid(alpha=0.5, linewidth=0.5)\n",
    "    ax.set_title('Monthly PET', fontsize=10)\n",
    "    ax.set_ylabel('PET (mm/day)')\n",
    "\n",
    "    # Adding a legend\n",
    "#plt.legend(ncol=3)\n",
    "plt.show()"
   ]
  },
  {
   "cell_type": "code",
   "execution_count": null,
   "metadata": {},
   "outputs": [],
   "source": []
  },
  {
   "cell_type": "markdown",
   "metadata": {},
   "source": [
    "### Convert monthly dataframes to arrays\n"
   ]
  },
  {
   "cell_type": "code",
   "execution_count": 56,
   "metadata": {},
   "outputs": [],
   "source": [
    "#call the relevant gridded_input function to convert data to arrays\n",
    "met_vars=['pcp', 'hmd', 'tmp', 'wnd']\n",
    "pathlist=[f\"W:/VUB/IP_2024/data/weather_data/1.{var}\" for var in met_vars]\n",
    "\n",
    "variable='rain'\n",
    "start_date='2003-09-01'\n",
    "resample_freq='M'\n",
    "min_x, max_x, min_y, max_y = 159600, 163350, 205500, 207200\n",
    "gridsize=10\n",
    "\n",
    "\n",
    "#demo use: gridded_temp(df_path:Path, resample_freq:str,min_x, max_x,min_y,max_y, gridsize):\n",
    "\n",
    "rainfall_arrays=gridded_input(pathlist[0], 'rain',start_date,resample_freq,min_x, max_x,min_y,max_y, gridsize)\n",
    "temp_arrays=gridded_temp(pathlist[2],start_date,resample_freq,min_x, max_x,min_y,max_y, gridsize)\n",
    "wind_arrays=gridded_input(pathlist[3],  'wind',start_date,resample_freq,min_x, max_x,min_y,max_y, gridsize)\n",
    "\n",
    "\n",
    "#for pet arrays, the function takes in a dataframe not a path\n",
    "#demo use: gridded_pet(df:pd.DataFrame, variable:str,resample_freq:str,min_x, max_x,min_y,max_y, gridsize:int):\n",
    "pet_arrays=gridded_pet(df_pet_vars, 'pet',start_date,resample_freq,min_x, max_x,min_y,max_y, gridsize)\n",
    "\n",
    "#for snow, all values are 0\n",
    "snow_arrays=gridded_input(pathlist[0], 'rain',start_date,resample_freq,min_x, max_x,min_y,max_y, gridsize)\n",
    "for i in range(len(snow_arrays)):\n",
    "    snow_arrays[i][:] = 0"
   ]
  },
  {
   "cell_type": "markdown",
   "metadata": {},
   "source": [
    "### Write arrays to ascii files"
   ]
  },
  {
   "cell_type": "code",
   "execution_count": null,
   "metadata": {},
   "outputs": [],
   "source": [
    "#temp\n",
    "#array_to_ascii_grid(array_list, start_date, var, units, gridx, gridy, dest_folder):\n",
    "start_date='2003-09-01'\n",
    "dest_folder=r\"W:/VUB/main_research/data/molenbeek_bgk/wetspass_input/maps\"\n",
    "gridx = np.arange(159600, 163350, 10,dtype=np.float32) \n",
    "gridy = np.arange(207200,205500,-10, dtype=np.float32)\n",
    "crs=\"EPSG:31370\"\n",
    "\n",
    "array_to_ascii_grid(temp_arrays, start_date,'temp','degree celcius', gridx, gridy,crs, dest_folder)\n",
    "array_to_ascii_grid(rainfall_arrays, start_date,'rain','mm', gridx, gridy,crs, dest_folder)\n",
    "array_to_ascii_grid(wind_arrays, start_date,'wind','mm/s', gridx, gridy, crs,dest_folder)\n",
    "array_to_ascii_grid(pet_arrays, start_date,'pet','mm/month', gridx, gridy, crs,dest_folder)\n",
    "array_to_ascii_grid(snow_arrays, start_date,'snow','mm', gridx, gridy, crs,dest_folder)"
   ]
  },
  {
   "cell_type": "code",
   "execution_count": 58,
   "metadata": {},
   "outputs": [],
   "source": [
    "dest_folder=r\"W:\\VUB\\main_research\\model_sims\\wetspass\\inputs\\Maps\""
   ]
  },
  {
   "cell_type": "code",
   "execution_count": 59,
   "metadata": {},
   "outputs": [],
   "source": [
    "#remove the metadata files(.xml) from the subfolders\n",
    "for root, dirs, files in os.walk(dest_folder):\n",
    "        for file in files:\n",
    "            if file.endswith('.xml'):\n",
    "                os.remove(os.path.join(root, file))\n",
    "            else:\n",
    "                continue"
   ]
  },
  {
   "cell_type": "code",
   "execution_count": 29,
   "metadata": {},
   "outputs": [],
   "source": [
    "pet_dataset=array_to_ascii_grid(pet_arrays, start_date,'pet','mm/month', gridx, gridy, crs,dest_folder)"
   ]
  },
  {
   "cell_type": "code",
   "execution_count": 30,
   "metadata": {},
   "outputs": [
    {
     "data": {
      "text/plain": [
       "<matplotlib.collections.PathCollection at 0x17c37cf4d50>"
      ]
     },
     "execution_count": 30,
     "metadata": {},
     "output_type": "execute_result"
    },
    {
     "data": {
      "image/png": "[encoded data removed]",
      "text/plain": [
       "<Figure size 1440x300 with 1 Axes>"
      ]
     },
     "metadata": {},
     "output_type": "display_data"
    }
   ],
   "source": [
    "#validate the output\n",
    "fig, ax = plt.subplots(figsize=(12, 2.5), dpi=120)\n",
    "pet_random_grid=pet_dataset.sel(lon=162000, lat=206000, method='nearest')\n",
    "df=pet_random_grid['pet'].to_dataframe().drop(columns=['lat', 'lon'])\n",
    "plt.plot(df.index, df['pet'], label='gridded pet', color='g', linewidth=0.4)\n",
    "plt.scatter(df_pet_month_sum.index, df_pet_month_sum['pet'], label='computed pet', color='m', linewidth=0.8, s=5)"
   ]
  },
  {
   "cell_type": "markdown",
   "metadata": {},
   "source": [
    "### Rainy days per month, degree days per month"
   ]
  },
  {
   "cell_type": "code",
   "execution_count": 36,
   "metadata": {},
   "outputs": [],
   "source": [
    "df_path_rain=r\"W:\\VUB\\main_research\\data\\molenbeek_bgk\\obs_data\\weather_data\\1.pcp\"\n",
    "df_path_temp=r\"W:\\VUB\\main_research\\data\\molenbeek_bgk\\obs_data\\weather_data\\1.tmp\"\n",
    "start_date='2003-09-01'\n",
    "resample_freq='M'\n",
    "outpath=r\"W:\\VUB\\main_research\\data\\molenbeek_bgk\\wetspass_input\\tables\"\n",
    "\n",
    "rainydays=rainy_days_permonth(df_path_rain, start_date, 'M',outpath)\n",
    "degreedays=degree_days_permonth(df_path_temp, start_date,'M', outpath)"
   ]
  },
  {
   "cell_type": "markdown",
   "metadata": {},
   "source": [
    "#### Average intensity\n",
    "\n",
    "Rain intensity is defined as average rainfall intensity during rainy days with rainfall >1mm"
   ]
  },
  {
   "cell_type": "code",
   "execution_count": 37,
   "metadata": {},
   "outputs": [
    {
     "name": "stdout",
     "output_type": "stream",
     "text": [
      "0.24909797451008567\n"
     ]
    }
   ],
   "source": [
    "rain_stat=rainy_days_permonth(df_path_rain, start_date, 'M',outpath)\n",
    "\n",
    "average_intensity=rain_stat[2]\n",
    "print(average_intensity.mean())"
   ]
  },
  {
   "cell_type": "code",
   "execution_count": 14,
   "metadata": {},
   "outputs": [],
   "source": [
    "rain=pd.read_csv(r\"W:\\VUB\\main_research\\data\\molenbeek_bgk\\obs_data\\weather_data\\1.pcp\", delim_whitespace=True, skiprows=3,header=None, names=['year', 'jday','rain'])\n",
    "rain['date'] = pd.to_datetime(rain['year'].astype(int).astype(str) + rain['jday'].astype(int).astype(str), format='%Y%j')\n",
    "#set zero values to a very low number\n",
    "rain['rain'] = np.where(rain['rain'] == 0, 0.0001, rain['rain'])\n",
    "rain.set_index('date', inplace=True)\n",
    "\n",
    "#set start date to match the start date of the gridded data (groundwater)\n",
    "rain=rain[start_date:]\n",
    "rain['rainy_days'] = np.where(rain['rain'] > 1, 1, 0)\n",
    "rainy_days=rain['rainy_days'].resample('M').sum().reset_index(drop=True)\n",
    "rainy_days.index += 1 #start index from 1\n"
   ]
  },
  {
   "cell_type": "code",
   "execution_count": 13,
   "metadata": {},
   "outputs": [
    {
     "data": {
      "text/html": [
       "<div>\n",
       "<style scoped>\n",
       "    .dataframe tbody tr th:only-of-type {\n",
       "        vertical-align: middle;\n",
       "    }\n",
       "\n",
       "    .dataframe tbody tr th {\n",
       "        vertical-align: top;\n",
       "    }\n",
       "\n",
       "    .dataframe thead th {\n",
       "        text-align: right;\n",
       "    }\n",
       "</style>\n",
       "<table border=\"1\" class=\"dataframe\">\n",
       "  <thead>\n",
       "    <tr style=\"text-align: right;\">\n",
       "      <th></th>\n",
       "      <th>year</th>\n",
       "      <th>jday</th>\n",
       "      <th>rain</th>\n",
       "      <th>rainy_days</th>\n",
       "    </tr>\n",
       "    <tr>\n",
       "      <th>date</th>\n",
       "      <th></th>\n",
       "      <th></th>\n",
       "      <th></th>\n",
       "      <th></th>\n",
       "    </tr>\n",
       "  </thead>\n",
       "  <tbody>\n",
       "    <tr>\n",
       "      <th>2003-09-01</th>\n",
       "      <td>2003</td>\n",
       "      <td>244</td>\n",
       "      <td>1.5517</td>\n",
       "      <td>1</td>\n",
       "    </tr>\n",
       "    <tr>\n",
       "      <th>2003-09-02</th>\n",
       "      <td>2003</td>\n",
       "      <td>245</td>\n",
       "      <td>0.0050</td>\n",
       "      <td>0</td>\n",
       "    </tr>\n",
       "    <tr>\n",
       "      <th>2003-09-03</th>\n",
       "      <td>2003</td>\n",
       "      <td>246</td>\n",
       "      <td>0.0350</td>\n",
       "      <td>0</td>\n",
       "    </tr>\n",
       "    <tr>\n",
       "      <th>2003-09-04</th>\n",
       "      <td>2003</td>\n",
       "      <td>247</td>\n",
       "      <td>0.0001</td>\n",
       "      <td>0</td>\n",
       "    </tr>\n",
       "    <tr>\n",
       "      <th>2003-09-05</th>\n",
       "      <td>2003</td>\n",
       "      <td>248</td>\n",
       "      <td>0.0200</td>\n",
       "      <td>0</td>\n",
       "    </tr>\n",
       "    <tr>\n",
       "      <th>...</th>\n",
       "      <td>...</td>\n",
       "      <td>...</td>\n",
       "      <td>...</td>\n",
       "      <td>...</td>\n",
       "    </tr>\n",
       "    <tr>\n",
       "      <th>2021-12-27</th>\n",
       "      <td>2021</td>\n",
       "      <td>361</td>\n",
       "      <td>2.4167</td>\n",
       "      <td>1</td>\n",
       "    </tr>\n",
       "    <tr>\n",
       "      <th>2021-12-28</th>\n",
       "      <td>2021</td>\n",
       "      <td>362</td>\n",
       "      <td>12.3467</td>\n",
       "      <td>1</td>\n",
       "    </tr>\n",
       "    <tr>\n",
       "      <th>2021-12-29</th>\n",
       "      <td>2021</td>\n",
       "      <td>363</td>\n",
       "      <td>2.6333</td>\n",
       "      <td>1</td>\n",
       "    </tr>\n",
       "    <tr>\n",
       "      <th>2021-12-30</th>\n",
       "      <td>2021</td>\n",
       "      <td>364</td>\n",
       "      <td>0.3683</td>\n",
       "      <td>0</td>\n",
       "    </tr>\n",
       "    <tr>\n",
       "      <th>2021-12-31</th>\n",
       "      <td>2021</td>\n",
       "      <td>365</td>\n",
       "      <td>0.0067</td>\n",
       "      <td>0</td>\n",
       "    </tr>\n",
       "  </tbody>\n",
       "</table>\n",
       "<p>6697 rows × 4 columns</p>\n",
       "</div>"
      ],
      "text/plain": [
       "            year  jday     rain  rainy_days\n",
       "date                                       \n",
       "2003-09-01  2003   244   1.5517           1\n",
       "2003-09-02  2003   245   0.0050           0\n",
       "2003-09-03  2003   246   0.0350           0\n",
       "2003-09-04  2003   247   0.0001           0\n",
       "2003-09-05  2003   248   0.0200           0\n",
       "...          ...   ...      ...         ...\n",
       "2021-12-27  2021   361   2.4167           1\n",
       "2021-12-28  2021   362  12.3467           1\n",
       "2021-12-29  2021   363   2.6333           1\n",
       "2021-12-30  2021   364   0.3683           0\n",
       "2021-12-31  2021   365   0.0067           0\n",
       "\n",
       "[6697 rows x 4 columns]"
      ]
     },
     "execution_count": 13,
     "metadata": {},
     "output_type": "execute_result"
    }
   ],
   "source": [
    "rain"
   ]
  },
  {
   "cell_type": "code",
   "execution_count": 11,
   "metadata": {},
   "outputs": [
    {
     "data": {
      "text/plain": [
       "1       9\n",
       "2       9\n",
       "3      11\n",
       "4      12\n",
       "5      18\n",
       "       ..\n",
       "216    12\n",
       "217     4\n",
       "218    14\n",
       "219    13\n",
       "220    14\n",
       "Name: rainy_days, Length: 220, dtype: int32"
      ]
     },
     "execution_count": 11,
     "metadata": {},
     "output_type": "execute_result"
    }
   ],
   "source": [
    "rainy_days"
   ]
  },
  {
   "cell_type": "code",
   "execution_count": 12,
   "metadata": {},
   "outputs": [
    {
     "data": {
      "text/plain": [
       "1      0.228385\n",
       "2      0.257638\n",
       "3      0.176309\n",
       "4      0.269014\n",
       "5      0.263870\n",
       "         ...   \n",
       "216    0.245500\n",
       "217    0.148483\n",
       "218    0.298592\n",
       "219    0.140669\n",
       "220    0.241642\n",
       "Length: 220, dtype: float64"
      ]
     },
     "execution_count": 12,
     "metadata": {},
     "output_type": "execute_result"
    }
   ],
   "source": [
    "rain_month=rain['rain'].resample('M').sum().reset_index(drop=True)\n",
    "rain_month.index += 1 #start index from 1\n",
    "\n",
    "#intensity in mm/hr\n",
    "average_intensity=rain_month/rainy_days/24\n",
    "#get rid of inf values\n",
    "average_intensity=average_intensity.replace([np.inf, -np.inf], np.nan)\n",
    "\n",
    "average_intensity"
   ]
  },
  {
   "cell_type": "code",
   "execution_count": null,
   "metadata": {},
   "outputs": [],
   "source": [
    "fig, ax = plt.subplots(figsize=(12, 2.5), dpi=120)\n",
    "plt.plot(rainy_days_permonth(df_path_rain[1], start_date, 'M',outpath), label='rainy days', color='b', linewidth=0.4)"
   ]
  },
  {
   "cell_type": "code",
   "execution_count": 26,
   "metadata": {},
   "outputs": [],
   "source": [
    "temp=pd.read_csv(df_path_temp, delim_whitespace=True, skiprows=3,header=None, names=['year', 'jday','tmax','tmin'])\n",
    "temp['date'] = pd.to_datetime(temp['year'].astype(int).astype(str) + temp['jday'].astype(int).astype(str), format='%Y%j')\n",
    "temp.set_index('date', inplace=True)\n",
    "temp['tmean']=(temp['tmax']+temp['tmin'])/2\n",
    "temp=temp[start_date:]\n",
    "#caclulate degree days based on a characteristic temperature (mean daily temperature) above freezing point.\n",
    "temp['degree_days'] = np.where(temp['tmean'] > 0, 1, 0)\n",
    "degree_days=temp['degree_days'].resample(resample_freq).sum().reset_index(drop=True)\n",
    "degree_days.index += 1 #start index from 1\n",
    "\n",
    "degree_days.to_csv(os.path.join(outpath,'DegreeDaysPerMonth.TBL'), sep='\\t',index_label='Code', header=['DegreeDays'])"
   ]
  },
  {
   "cell_type": "code",
   "execution_count": 20,
   "metadata": {},
   "outputs": [],
   "source": [
    "degree_days.to_csv(os.path.join(outpath,'DegreeDaysPerMonth.TBL'), sep='\\t',index_label='Code', header=['DegreeDays'])"
   ]
  },
  {
   "cell_type": "code",
   "execution_count": 30,
   "metadata": {},
   "outputs": [
    {
     "data": {
      "text/html": [
       "<div>\n",
       "<style scoped>\n",
       "    .dataframe tbody tr th:only-of-type {\n",
       "        vertical-align: middle;\n",
       "    }\n",
       "\n",
       "    .dataframe tbody tr th {\n",
       "        vertical-align: top;\n",
       "    }\n",
       "\n",
       "    .dataframe thead th {\n",
       "        text-align: right;\n",
       "    }\n",
       "</style>\n",
       "<table border=\"1\" class=\"dataframe\">\n",
       "  <thead>\n",
       "    <tr style=\"text-align: right;\">\n",
       "      <th></th>\n",
       "      <th>year</th>\n",
       "      <th>jday</th>\n",
       "      <th>tmax</th>\n",
       "      <th>tmin</th>\n",
       "      <th>tmean</th>\n",
       "      <th>degree_days</th>\n",
       "    </tr>\n",
       "    <tr>\n",
       "      <th>date</th>\n",
       "      <th></th>\n",
       "      <th></th>\n",
       "      <th></th>\n",
       "      <th></th>\n",
       "      <th></th>\n",
       "      <th></th>\n",
       "    </tr>\n",
       "  </thead>\n",
       "  <tbody>\n",
       "    <tr>\n",
       "      <th>2013-01-26</th>\n",
       "      <td>2013</td>\n",
       "      <td>26</td>\n",
       "      <td>5.2550</td>\n",
       "      <td>-8.9700</td>\n",
       "      <td>-1.85750</td>\n",
       "      <td>0</td>\n",
       "    </tr>\n",
       "    <tr>\n",
       "      <th>2010-11-29</th>\n",
       "      <td>2010</td>\n",
       "      <td>333</td>\n",
       "      <td>-1.2367</td>\n",
       "      <td>-4.5617</td>\n",
       "      <td>-2.89920</td>\n",
       "      <td>0</td>\n",
       "    </tr>\n",
       "    <tr>\n",
       "      <th>2010-11-30</th>\n",
       "      <td>2010</td>\n",
       "      <td>334</td>\n",
       "      <td>-0.2800</td>\n",
       "      <td>-2.2833</td>\n",
       "      <td>-1.28165</td>\n",
       "      <td>0</td>\n",
       "    </tr>\n",
       "    <tr>\n",
       "      <th>2010-12-01</th>\n",
       "      <td>2010</td>\n",
       "      <td>335</td>\n",
       "      <td>-4.2617</td>\n",
       "      <td>-4.8933</td>\n",
       "      <td>-4.57750</td>\n",
       "      <td>0</td>\n",
       "    </tr>\n",
       "    <tr>\n",
       "      <th>2010-12-02</th>\n",
       "      <td>2010</td>\n",
       "      <td>336</td>\n",
       "      <td>-4.6850</td>\n",
       "      <td>-6.9900</td>\n",
       "      <td>-5.83750</td>\n",
       "      <td>0</td>\n",
       "    </tr>\n",
       "    <tr>\n",
       "      <th>...</th>\n",
       "      <td>...</td>\n",
       "      <td>...</td>\n",
       "      <td>...</td>\n",
       "      <td>...</td>\n",
       "      <td>...</td>\n",
       "      <td>...</td>\n",
       "    </tr>\n",
       "    <tr>\n",
       "      <th>2009-10-24</th>\n",
       "      <td>2009</td>\n",
       "      <td>297</td>\n",
       "      <td>15.3067</td>\n",
       "      <td>6.2183</td>\n",
       "      <td>10.76250</td>\n",
       "      <td>1</td>\n",
       "    </tr>\n",
       "    <tr>\n",
       "      <th>2009-10-23</th>\n",
       "      <td>2009</td>\n",
       "      <td>296</td>\n",
       "      <td>15.2817</td>\n",
       "      <td>3.9667</td>\n",
       "      <td>9.62420</td>\n",
       "      <td>1</td>\n",
       "    </tr>\n",
       "    <tr>\n",
       "      <th>2009-10-22</th>\n",
       "      <td>2009</td>\n",
       "      <td>295</td>\n",
       "      <td>13.9100</td>\n",
       "      <td>8.9433</td>\n",
       "      <td>11.42665</td>\n",
       "      <td>1</td>\n",
       "    </tr>\n",
       "    <tr>\n",
       "      <th>2009-11-01</th>\n",
       "      <td>2009</td>\n",
       "      <td>305</td>\n",
       "      <td>15.9917</td>\n",
       "      <td>6.8300</td>\n",
       "      <td>11.41085</td>\n",
       "      <td>1</td>\n",
       "    </tr>\n",
       "    <tr>\n",
       "      <th>2021-12-31</th>\n",
       "      <td>2021</td>\n",
       "      <td>365</td>\n",
       "      <td>14.1450</td>\n",
       "      <td>12.0033</td>\n",
       "      <td>13.07415</td>\n",
       "      <td>1</td>\n",
       "    </tr>\n",
       "  </tbody>\n",
       "</table>\n",
       "<p>6697 rows × 6 columns</p>\n",
       "</div>"
      ],
      "text/plain": [
       "            year  jday     tmax     tmin     tmean  degree_days\n",
       "date                                                           \n",
       "2013-01-26  2013    26   5.2550  -8.9700  -1.85750            0\n",
       "2010-11-29  2010   333  -1.2367  -4.5617  -2.89920            0\n",
       "2010-11-30  2010   334  -0.2800  -2.2833  -1.28165            0\n",
       "2010-12-01  2010   335  -4.2617  -4.8933  -4.57750            0\n",
       "2010-12-02  2010   336  -4.6850  -6.9900  -5.83750            0\n",
       "...          ...   ...      ...      ...       ...          ...\n",
       "2009-10-24  2009   297  15.3067   6.2183  10.76250            1\n",
       "2009-10-23  2009   296  15.2817   3.9667   9.62420            1\n",
       "2009-10-22  2009   295  13.9100   8.9433  11.42665            1\n",
       "2009-11-01  2009   305  15.9917   6.8300  11.41085            1\n",
       "2021-12-31  2021   365  14.1450  12.0033  13.07415            1\n",
       "\n",
       "[6697 rows x 6 columns]"
      ]
     },
     "execution_count": 30,
     "metadata": {},
     "output_type": "execute_result"
    }
   ],
   "source": [
    "temp.sort_values(by='degree_days', inplace=True)\n",
    "temp"
   ]
  },
  {
   "cell_type": "markdown",
   "metadata": {},
   "source": [
    "#### Plotting grids"
   ]
  },
  {
   "cell_type": "code",
   "execution_count": null,
   "metadata": {},
   "outputs": [],
   "source": [
    "# Assuming temp_arrays is a list of 2D arrays, and each represents a temperature grid\n",
    "# Also assuming min_x, max_x, min_y, max_y, and gridsize are defined\n",
    "\n",
    "gridx = np.arange(min_x, max_x, gridsize, dtype=np.float64)\n",
    "gridy = np.arange(max_y, min_y, -gridsize, dtype=np.float64)\n",
    "x_grid, y_grid = np.meshgrid(gridx, gridy)\n",
    "\n",
    "fig = plt.figure(figsize=(20, 5))\n",
    "ax = fig.add_subplot(111, projection='3d')\n",
    "\n",
    "# Initialize the surface plot, using the first item in temp_arrays for initial data\n",
    "surface = ax.plot_surface(x_grid, y_grid, temp_arrays[0], antialiased=False, cmap='RdYlGn_r')\n",
    "\n",
    "# Set constant z-axis limits based on the range of data\n",
    "z_min =0\n",
    "z_max = 30\n",
    "ax.set_zlim(z_min, z_max)\n",
    "\n",
    "def update(frame):\n",
    "    global surface\n",
    "    # Remove the old surface before plotting the new one\n",
    "    surface.remove()\n",
    "    surface = ax.plot_surface(x_grid, y_grid, temp_arrays[frame], antialiased=False, cmap='RdYlGn_r', vmin=z_min, vmax=z_max)\n",
    "    surface.grid(alpha=0.1, linewidth=0.2)\n",
    "    return surface,\n",
    "\n",
    "# Creating animation\n",
    "ani = FuncAnimation(fig, update, frames=range(len(temp_arrays[50])), blit=False)\n",
    "\n",
    "plt.show()"
   ]
  },
  {
   "cell_type": "code",
   "execution_count": null,
   "metadata": {},
   "outputs": [],
   "source": [
    "\n",
    "# Or save as GIF\n",
    "ani.save('animation.gif', writer='imagemagick')\n"
   ]
  },
  {
   "cell_type": "markdown",
   "metadata": {},
   "source": [
    "#### Nearest Neighbour interpolation: Soil group"
   ]
  },
  {
   "cell_type": "code",
   "execution_count": 15,
   "metadata": {},
   "outputs": [],
   "source": [
    "#fill nan values with nearest neighbor\n",
    "\n",
    "from osgeo import gdal\n",
    "import numpy as np\n",
    "from scipy.ndimage import distance_transform_edt\n",
    "\n",
    "# Load raster\n",
    "raster = gdal.Open(r\"W:\\VUB\\main_research\\data\\molenbeek_bgk\\soiltype_lb72\\soil_with_nan.tif\")\n",
    "raster_array = raster.ReadAsArray()\n",
    "\n",
    "# Create a mask of NaN values in the raster\n",
    "mask = (raster_array == -9999)\n",
    "\n",
    "# Compute the distance transform of the mask\n",
    "dist_transform = distance_transform_edt(mask)\n",
    "\n",
    "# Replace NaN values with the nearest neighbor value\n",
    "filled_raster = np.where(mask, raster_array[np.unravel_index(dist_transform.argmin(), raster_array.shape)], raster_array)\n",
    "\n",
    "# Save the filled raster\n",
    "driver = gdal.GetDriverByName('GTiff')\n",
    "filled_raster_path = r\"W:\\VUB\\main_research\\data\\molenbeek_bgk\\soiltype_lb72\\soil_filled.tif\"\n",
    "filled_raster_dataset = driver.Create(filled_raster_path, raster.RasterXSize, raster.RasterYSize, 1, gdal.GDT_Float32)\n",
    "filled_raster_dataset.SetGeoTransform(raster.GetGeoTransform())\n",
    "filled_raster_dataset.SetProjection(raster.GetProjection())\n",
    "filled_raster_dataset.GetRasterBand(1).WriteArray(filled_raster)\n",
    "filled_raster_dataset.FlushCache()\n",
    "filled_raster_dataset = None"
   ]
  },
  {
   "cell_type": "code",
   "execution_count": 18,
   "metadata": {},
   "outputs": [
    {
     "data": {
      "text/plain": [
       "CompletedProcess(args=['gdal_translate', '-of', 'AAIGrid', '-ot', 'int32', '-co', 'DECIMAL_PRECISION=4', '-a_nodata', '-9999', 'W:\\\\VUB\\\\main_research\\\\data\\\\molenbeek_bgk\\\\soiltype_lb72\\\\soil_filled.tif', 'W:\\\\VUB\\\\main_research\\\\data\\\\molenbeek_bgk\\\\soiltype_lb72\\\\soil_filled.asc'], returncode=0)"
      ]
     },
     "execution_count": 18,
     "metadata": {},
     "output_type": "execute_result"
    }
   ],
   "source": [
    " tif_file=r\"W:\\VUB\\main_research\\data\\molenbeek_bgk\\soiltype_lb72\\soil_filled.tif\"\n",
    "# Convert the filled raster to ASCII grid\n",
    "ascii_file_path = os.path.splitext(tif_file)[0] + '.asc'\n",
    " \n",
    " subprocess.run(['gdal_translate', '-of', 'AAIGrid', '-ot', 'int32', \n",
    "                        '-co', 'DECIMAL_PRECISION=4', '-a_nodata', '-9999', \n",
    "                        tif_file, ascii_file_path], check=True)"
   ]
  },
  {
   "cell_type": "code",
   "execution_count": 64,
   "metadata": {},
   "outputs": [
    {
     "data": {
      "text/plain": [
       "<matplotlib.image.AxesImage at 0x1ca886ef110>"
      ]
     },
     "execution_count": 64,
     "metadata": {},
     "output_type": "execute_result"
    },
    {
     "data": {
      "image/png": "[encoded data removed]",
      "text/plain": [
       "<Figure size 640x480 with 1 Axes>"
      ]
     },
     "metadata": {},
     "output_type": "display_data"
    }
   ],
   "source": [
    "#plot the raster\n",
    "plt.imshow(filled_raster, cmap='viridis')"
   ]
  }
 ],
 "metadata": {
  "kernelspec": {
   "display_name": "multipurpose",
   "language": "python",
   "name": "python3"
  },
  "language_info": {
   "codemirror_mode": {
    "name": "ipython",
    "version": 3
   },
   "file_extension": ".py",
   "mimetype": "text/x-python",
   "name": "python",
   "nbconvert_exporter": "python",
   "pygments_lexer": "ipython3",
   "version": "3.11.5"
  }
 },
 "nbformat": 4,
 "nbformat_minor": 2
}
