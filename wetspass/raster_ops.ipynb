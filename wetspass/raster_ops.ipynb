{
 "cells": [
  {
   "cell_type": "code",
   "execution_count": 1,
   "metadata": {},
   "outputs": [],
   "source": [
    "\"\"\"\n",
    "code to do multiple raster operations\n",
    "\"\"\"\n",
    "#use the spatialenv conda environment\n",
    "import rasterio\n",
    "import os\n",
    "import glob\n",
    "from osgeo import gdal\n",
    "from rasterio.merge import merge\n",
    "from rasterio.plot import show\n",
    "from rasterio.enums import Resampling\n",
    "import matplotlib.pyplot as plt\n",
    "import numpy as np\n",
    "import subprocess\n",
    "import sys"
   ]
  },
  {
   "cell_type": "markdown",
   "metadata": {},
   "source": [
    "#### Reclassify rasters"
   ]
  },
  {
   "cell_type": "code",
   "execution_count": 3,
   "metadata": {},
   "outputs": [],
   "source": [
    "def reclassify_raster(input_raster_path, in_raster, reclassification_dict):\n",
    "    \"\"\"Reclassify a raster based on a reclassification dictionary.\"\"\"\n",
    "\n",
    "    # Open the input raster\n",
    "    with rasterio.open(os.path.join(input_raster_path,in_raster)) as dataset:\n",
    "        # Read the data from the input\n",
    "        data = dataset.read(1) #1 represents the first band\n",
    "        \n",
    "        #numpy vectorize function to reclassify the data\n",
    "        vectorize_map=np.vectorize(reclassification_dict.get)\n",
    "\n",
    "        reclassified_raster = vectorize_map(data)\n",
    "        output_raster=os.path.join(input_raster_path,'reclassified_raster.tif')\n",
    "\n",
    "\n",
    "        # Write the new data to a new raster file\n",
    "        # Open the original raster to copy the metadata\n",
    "    with rasterio.open(os.path.join(input_raster_path,in_raster)) as src:\n",
    "        meta = src.meta\n",
    "\n",
    "    # Update the metadata (if necessary)\n",
    "    meta.update(count=1)\n",
    "\n",
    "    # Write the reclassified raster\n",
    "    with rasterio.open(output_raster, 'w', **meta) as dst:\n",
    "        dst.write(reclassified_raster,1)\n",
    "\n",
    "# %%\n",
    "par_dir=r'W:\\VUB\\main_research\\data\\molenbeek_bgk\\landuse'\n",
    "in_raster='beggelbeek_lu_10m.asc'\n",
    "reclassification_dict = {\n",
    "    1: 1, 2: 3,3: 3,4: 1,\n",
    "    5: 201,6: 2,7: 3,8: 2,9:307,10:7,\n",
    "    11: 6,12: 31,13: 21,14: 21,\n",
    "    15: 31,16: 23,17: 52,18: 44,\n",
    "    19: 28,-9999: -9999}\n",
    "\n",
    "reclassify_raster(par_dir,in_raster,reclassification_dict)"
   ]
  }
 ],
 "metadata": {
  "kernelspec": {
   "display_name": "spatial_env",
   "language": "python",
   "name": "python3"
  },
  "language_info": {
   "codemirror_mode": {
    "name": "ipython",
    "version": 3
   },
   "file_extension": ".py",
   "mimetype": "text/x-python",
   "name": "python",
   "nbconvert_exporter": "python",
   "pygments_lexer": "ipython3",
   "version": "3.12.0"
  }
 },
 "nbformat": 4,
 "nbformat_minor": 2
}
